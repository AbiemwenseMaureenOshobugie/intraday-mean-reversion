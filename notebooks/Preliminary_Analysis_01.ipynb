{
  "cells": [
    {
      "cell_type": "markdown",
      "source": [
        "Long-term Regional/Economic period comparisons\n",
        "\n",
        "This analysis provides valuable insights, with particularly strong implications for global ETF strategies.\n",
        "\n",
        "---"
      ],
      "metadata": {
        "id": "p6Ir2YFyjAMe"
      }
    },
    {
      "cell_type": "code",
      "execution_count": null,
      "metadata": {
        "id": "niZwzrMcyVyi"
      },
      "outputs": [],
      "source": [
        "import pandas as pd\n",
        "import numpy as np\n",
        "import yfinance as yf\n",
        "from datetime import datetime\n",
        "import matplotlib.pyplot as plt\n",
        "import matplotlib.dates as mdates\n",
        "\n",
        "import warnings\n",
        "warnings.filterwarnings('ignore')\n",
        "from IPython.display import Javascript\n"
      ]
    },
    {
      "cell_type": "code",
      "execution_count": null,
      "metadata": {
        "colab": {
          "base_uri": "https://localhost:8080/"
        },
        "id": "wwdQvklDyETQ",
        "outputId": "d1c8494a-8f51-4f36-8325-573832edac89"
      },
      "outputs": [
        {
          "output_type": "stream",
          "name": "stdout",
          "text": [
            "\n",
            "  index  intraday_change  overnight_change  net_change  net_pct_change  avg_overnight_return (%)\n",
            " ^GSPC          2174.73           1832.96     4007.69          361.55                      0.01\n",
            " ^IXIC          4087.48           9888.92    13962.30          690.94                      0.03\n",
            "  ^DJI         18152.55           9823.69    27974.24          268.68                      0.01\n",
            " ^FTSE          3568.00             68.80     3636.80           80.63                      0.00\n",
            " ^FCHI         -2056.80           6525.15     4473.43          124.55                      0.03\n",
            "^GDAXI          -197.35          14297.17    14098.38          350.71                      0.03\n",
            " ^NSEI        -24467.89          42616.64    18149.30          403.85                      0.10\n",
            "^BSESN       -118617.50         187262.20    68620.80         1134.14                      0.14\n"
          ]
        }
      ],
      "source": [
        "\n",
        "indices = ['^GSPC', '^IXIC', '^DJI', '^FTSE', '^FCHI', '^GDAXI', '^NSEI', '^BSESN']\n",
        "effects = pd.DataFrame(columns=[\n",
        "    'index', 'intraday_change', 'overnight_change',\n",
        "    'net_change', 'net_pct_change',\n",
        "    'avg_overnight_return (%)'\n",
        "])\n",
        "\n",
        "for i, idx in enumerate(indices):\n",
        "    start = '2004-01-01'\n",
        "    end = '2024-04-30'\n",
        "    data = yf.download(idx, start=start, end=end, auto_adjust=False, progress=False)\n",
        "    if data.empty:\n",
        "        continue\n",
        "    data.columns = data.columns.get_level_values(0)\n",
        "\n",
        "    # Calculate intraday and overnight returns\n",
        "    data['intraday_change'] = data['Close'] - data['Open']\n",
        "    data['overnight_change'] = data['Open'] - data['Close'].shift(1)\n",
        "\n",
        "    # Calculate overnight return as percentage\n",
        "    data['overnight_return_pct'] = data['overnight_change'] / data['Close'].shift(1) * 100\n",
        "\n",
        "    # Drop rows with NaN values from shift\n",
        "    data = data.dropna()\n",
        "\n",
        "    # Net change and net % change\n",
        "    initial_open = data['Open'].iloc[0]\n",
        "    final_close = data['Close'].iloc[-1]\n",
        "    net_change = final_close - initial_open\n",
        "    net_pct_change = (net_change / initial_open) * 100\n",
        "\n",
        "    effects.loc[i] = [\n",
        "        idx,\n",
        "        data['intraday_change'].sum(),\n",
        "        data['overnight_change'].sum(),\n",
        "        net_change,\n",
        "        net_pct_change,\n",
        "        data['overnight_return_pct'].mean()\n",
        "    ]\n",
        "\n",
        "effects = effects.round(2)\n",
        "print(\"\\n\", effects.to_string(index=False))\n"
      ]
    },
    {
      "cell_type": "markdown",
      "metadata": {
        "id": "4ryDe4Gzu5ht"
      },
      "source": [
        "Time-level snapshot: **performance decomposition** of various global stock indices over multiple economic periods"
      ]
    },
    {
      "cell_type": "code",
      "execution_count": null,
      "metadata": {
        "id": "7cDJ-CJRexko",
        "colab": {
          "base_uri": "https://localhost:8080/",
          "height": 1476
        },
        "outputId": "9f12c79b-ca55-4014-a3bd-17d2b4df6c3e"
      },
      "outputs": [
        {
          "output_type": "display_data",
          "data": {
            "text/plain": [
              "<IPython.core.display.Javascript object>"
            ],
            "application/javascript": [
              "google.colab.output.setIframeHeight(0, true, {maxHeight: 5000})"
            ]
          },
          "metadata": {}
        },
        {
          "output_type": "stream",
          "name": "stdout",
          "text": [
            "Downloading all index data...\n",
            "\n",
            "==== Period: 2004-01-01 to 2007-06-30 ====\n",
            "\n",
            "    index  total_days  intraday_change  overnight_change  net_change  net_pct_change  overnight_return_pct\n",
            "0   ^GSPC         878           414.42            -19.55      394.87           35.62                 -0.00\n",
            "1   ^IXIC         878          -121.12            717.67      582.45           28.82                  0.04\n",
            "2    ^DJI         878          3631.01           -632.24     2996.77           28.78                 -0.01\n",
            "3   ^FTSE         882          2100.00             -2.30     2097.70           46.51                 -0.00\n",
            "4   ^FCHI         896           985.99           1472.14     2463.21           68.58                  0.04\n",
            "5  ^GDAXI         893          3025.63            963.19     3987.38           99.19                  0.02\n",
            "6  ^BSESN         867         -4072.07          12695.99     8600.03          142.14                  0.16\n",
            "\n",
            "==== Period: 2007-07-01 to 2009-03-31 ====\n",
            "\n",
            "    index  total_days  intraday_change  overnight_change  net_change  net_pct_change  overnight_return_pct\n",
            "0   ^GSPC         440          -621.37           -100.19     -721.25          -47.48                 -0.02\n",
            "1   ^IXIC         440          -902.19           -201.52    -1108.12          -42.03                 -0.03\n",
            "2    ^DJI         440         -5232.25           -694.26    -5922.61          -43.77                 -0.01\n",
            "3   ^FTSE         444         -2672.80              8.30    -2664.50          -40.43                  0.00\n",
            "4   ^FCHI         447         -3410.46            190.85    -3266.78          -53.78                  0.03\n",
            "5  ^GDAXI         443         -2772.75          -1100.73    -3900.50          -48.85                 -0.04\n",
            "6   ^NSEI         374         -1931.55            457.85    -1473.15          -32.78                  0.04\n",
            "7  ^BSESN         427        -11398.99           6443.23    -5011.50          -34.05                  0.09\n",
            "\n",
            "==== Period: 2009-04-01 to 2015-12-31 ====\n",
            "\n",
            "    index  total_days  intraday_change  overnight_change  net_change  net_pct_change  overnight_return_pct\n",
            "0   ^GSPC        1700          1109.27            123.59     1229.41          150.93                  0.00\n",
            "1   ^IXIC        1700          1547.67           1908.14     3427.44          216.93                  0.03\n",
            "2    ^DJI        1700         10664.57          -1001.14     9661.04          124.43                 -0.01\n",
            "3   ^FTSE        1703          2285.90              0.80     2286.70           57.81                  0.00\n",
            "4   ^FCHI        1723         -1116.23           2953.76     1780.47           61.47                  0.05\n",
            "5  ^GDAXI        1712          -865.23           7477.17     6569.39          157.40                  0.06\n",
            "6   ^NSEI        1647         -3986.05           8872.05     4885.30          159.60                  0.08\n",
            "7  ^BSESN        1654        -28039.08          44254.63    16010.29          158.40                  0.13\n",
            "\n",
            "==== Period: 2016-01-01 to 2019-12-31 ====\n",
            "\n",
            "    index  total_days  intraday_change  overnight_change  net_change  net_pct_change  overnight_return_pct\n",
            "0   ^GSPC        1005           377.33            840.79     1217.00           60.43                  0.03\n",
            "1   ^IXIC        1005          1135.83           2933.68     4054.76           82.45                  0.04\n",
            "2    ^DJI        1005          4367.26           7022.24    11390.94           66.43                  0.03\n",
            "3   ^FTSE        1010          1446.60              2.40     1449.00           23.78                  0.00\n",
            "4   ^FCHI        1021           664.44            791.17     1404.52           30.71                  0.02\n",
            "5  ^GDAXI        1008          -603.12           3568.69     2875.74           27.72                  0.03\n",
            "6   ^NSEI         977         -8001.95          12379.10     4340.05           55.44                  0.13\n",
            "7  ^BSESN         979        -39423.75          55054.13    15509.04           60.24                  0.17\n",
            "\n",
            "==== Period: 2020-01-01 to 2021-12-31 ====\n",
            "\n",
            "    index  total_days  intraday_change  overnight_change  net_change  net_pct_change  overnight_return_pct\n",
            "0   ^GSPC         504           571.69            936.64     1539.82           47.73                  0.05\n",
            "1   ^IXIC         504          1516.04           5036.74     6668.54           74.29                  0.08\n",
            "2    ^DJI         504          2979.38           4490.12     7784.97           27.26                  0.03\n",
            "3   ^FTSE         505          -256.40             36.60     -219.80           -2.89                  0.00\n",
            "4   ^FCHI         514           210.56            900.97     1145.07           19.06                  0.04\n",
            "5  ^GDAXI         508          -510.67           3009.60     2618.47           19.74                  0.05\n",
            "6   ^NSEI         497         -7170.50          12342.05     5155.50           42.26                  0.19\n",
            "7  ^BSESN         495        -31623.15          48250.33    16619.31           39.92                  0.22\n",
            "\n",
            "==== Period: 2022-01-01 to 2023-09-30 ====\n",
            "\n",
            "    index  total_days  intraday_change  overnight_change  net_change  net_pct_change  overnight_return_pct\n",
            "0   ^GSPC         437          -173.78           -334.74     -516.46          -10.75                 -0.02\n",
            "1   ^IXIC         437          -576.35          -2037.13    -2632.82          -16.61                 -0.03\n",
            "2    ^DJI         437         -1871.98          -1205.58    -3128.50           -8.54                 -0.01\n",
            "3   ^FTSE         437            79.90             23.00      102.90            1.37                  0.00\n",
            "4   ^FCHI         448           200.17           -282.33     -138.51           -1.90                 -0.01\n",
            "5  ^GDAXI         448            60.11           -694.26     -683.22           -4.25                 -0.01\n",
            "6   ^NSEI         432         -3306.79           5319.39     1956.90           11.07                  0.07\n",
            "7  ^BSESN         432         -2263.14           8908.33     6484.62           10.93                  0.04\n",
            "\n",
            "==== Period: 2023-10-01 to 2024-04-30 ====\n",
            "\n",
            "    index  total_days  intraday_change  overnight_change  net_change  net_pct_change  overnight_return_pct\n",
            "0   ^GSPC         144           454.97            372.81      846.42           19.82                  0.05\n",
            "1   ^IXIC         144          1177.69           1497.62     2753.40           20.81                  0.07\n",
            "2    ^DJI         144          3118.64           1834.10     5067.25           15.21                  0.04\n",
            "3   ^FTSE         145           636.30              0.00      636.30            8.47                  0.00\n",
            "4   ^FCHI         145           466.63            530.36     1033.56           14.70                  0.05\n",
            "5  ^GDAXI         145          1593.04           1278.07     2933.83           19.32                  0.05\n",
            "6   ^NSEI         138           -99.55           3214.20     3197.10           16.44                  0.11\n",
            "7  ^BSESN         137         -2297.65          11456.83     9340.63           14.30                  0.12\n"
          ]
        }
      ],
      "source": [
        "\n",
        "# Display settings for Google Colab (for adjusting iframe height)\n",
        "display(Javascript('''google.colab.output.setIframeHeight(0, true, {maxHeight: 5000})'''))\n",
        "\n",
        "# Indices and time periods\n",
        "indices = ['^GSPC', '^IXIC', '^DJI', '^FTSE', '^FCHI', '^GDAXI', '^NSEI', '^BSESN']\n",
        "time_periods = [\n",
        "    ('2004-01-01', '2007-06-30'),  # Pre-GFC Expansion\n",
        "    ('2007-07-01', '2009-03-31'),  # Global Financial Crisis\n",
        "    ('2009-04-01', '2015-12-31'),  # Post-GFC Recovery & QE Era\n",
        "    ('2016-01-01', '2019-12-31'),  # Global Rebalancing & Rate Hikes Begin\n",
        "    ('2020-01-01', '2021-12-31'),  # COVID-19 Pandemic\n",
        "    ('2022-01-01', '2023-09-30'),  # Inflation & Rate Hikes\n",
        "    ('2023-10-01', '2024-04-30')   # Soft Landing Hopes & AI Boom\n",
        "]\n",
        "\n",
        "# Dictionary to store results per period\n",
        "period_dataframes = {}\n",
        "\n",
        "# Download all index data first\n",
        "print(\"Downloading all index data...\")\n",
        "index_data = {}\n",
        "for idx in indices:\n",
        "    index_data[idx] = yf.download(idx, start='2004-01-01', end='2024-04-30', auto_adjust=False, progress=False)\n",
        "    if isinstance(index_data[idx].columns, pd.MultiIndex):\n",
        "        index_data[idx].columns = index_data[idx].columns.get_level_values(0)\n",
        "\n",
        "# Process each time period\n",
        "for period_start, period_end in time_periods:\n",
        "    period_key = f\"{period_start} to {period_end}\"\n",
        "    period_results = []\n",
        "\n",
        "    for idx in indices:\n",
        "        data = index_data[idx].loc[period_start:period_end].copy()\n",
        "\n",
        "        if data.empty or len(data) < 2:\n",
        "            continue\n",
        "\n",
        "        # Calculate intraday and overnight returns\n",
        "        data['intraday_change'] = data['Close'] - data['Open']\n",
        "        data['overnight_change'] = data['Open'] - data['Close'].shift(1)\n",
        "\n",
        "        # Calculate overnight return as percentage\n",
        "        data['overnight_return_pct'] = data['overnight_change'] / data['Close'].shift(1) * 100\n",
        "\n",
        "        # Drop rows with NaN values from shift\n",
        "        data = data.dropna()\n",
        "\n",
        "        # Net change and net % change\n",
        "        initial_open = data['Open'].iloc[0]\n",
        "        final_close = data['Close'].iloc[-1]\n",
        "        net_change = final_close - initial_open\n",
        "        net_pct_change = (net_change / initial_open) * 100\n",
        "\n",
        "        # Store the results for the current period and index\n",
        "        period_results.append({\n",
        "            'index': idx,\n",
        "            'total_days': len(data),\n",
        "            'intraday_change': data['intraday_change'].sum(),\n",
        "            'overnight_change': data['overnight_change'].sum(),\n",
        "            'net_change': net_change,\n",
        "            'net_pct_change': net_pct_change,\n",
        "            'overnight_return_pct': data['overnight_return_pct'].mean()\n",
        "\n",
        "        })\n",
        "    # Round values inside each dictionary in the list\n",
        "    rounded_results = [\n",
        "       {k: round(v, 2) if isinstance(v, (int, float)) else v for k, v in result.items()}\n",
        "       for result in period_results\n",
        "        ]\n",
        "    period_dataframes[period_key] = pd.DataFrame(rounded_results)\n",
        "\n",
        "for period, df in period_dataframes.items():\n",
        "    print(f\"\\n==== Period: {period} ====\\n\")\n",
        "    print(df.to_string())\n"
      ]
    },
    {
      "cell_type": "markdown",
      "metadata": {
        "id": "41NjJO9Izxp3"
      },
      "source": [
        "Region-level snapshot across the entire date range\n"
      ]
    },
    {
      "cell_type": "code",
      "execution_count": null,
      "metadata": {
        "colab": {
          "base_uri": "https://localhost:8080/"
        },
        "id": "KcLE4OHbz1up",
        "outputId": "d04792f2-61a1-42ff-a806-65ccab91dc87"
      },
      "outputs": [
        {
          "output_type": "stream",
          "name": "stdout",
          "text": [
            "\n",
            "==== Region Snapshot: US ====\n",
            "\n",
            "  region  index  total_days  intraday_change  overnight_change  net_change  net_pct_change  overnight_return_pct\n",
            "0     US  ^GSPC        5114          2174.73           1832.96     4007.69          361.55                  0.01\n",
            "1     US  ^IXIC        5114          4087.48           9888.92    13962.30          690.94                  0.03\n",
            "2     US   ^DJI        5114         18152.55           9823.69    27974.24          268.68                  0.01\n",
            "\n",
            "==== Region Snapshot: Europe ====\n",
            "\n",
            "   region   index  total_days  intraday_change  overnight_change  net_change  net_pct_change  overnight_return_pct\n",
            "0  Europe   ^FTSE        5132          3568.00             68.80     3636.80           80.63                  0.00\n",
            "1  Europe   ^FCHI        5200         -2056.80           6525.15     4473.43          124.55                  0.03\n",
            "2  Europe  ^GDAXI        5163          -197.35          14297.17    14098.38          350.71                  0.03\n",
            "\n",
            "==== Region Snapshot: Asia ====\n",
            "\n",
            "  region   index  total_days  intraday_change  overnight_change  net_change  net_pct_change  overnight_return_pct\n",
            "0   Asia   ^NSEI        4070        -24467.89          42616.64     18149.3          403.85                  0.10\n",
            "1   Asia  ^BSESN        4997       -118617.50         187262.20     68620.8         1134.14                  0.14\n"
          ]
        }
      ],
      "source": [
        "\n",
        "indices = {\n",
        "    'US': ['^GSPC', '^IXIC', '^DJI'],  # S&P 500, NASDAQ, Dow Jones\n",
        "    'Europe': ['^FTSE', '^FCHI', '^GDAXI'],  # FTSE 100, CAC 40, DAX\n",
        "    'Asia': ['^NSEI', '^BSESN']  # Nifty 50, Sensex, Hang Seng, Nikkei 225\n",
        "}\n",
        "\n",
        "region_summary_full = {}\n",
        "\n",
        "for region, region_indices in indices.items():\n",
        "    region_results = []\n",
        "    for ridx in region_indices:\n",
        "        data = index_data[ridx].copy()\n",
        "\n",
        "        if data.empty or len(data) < 2:\n",
        "            continue\n",
        "\n",
        "        # Calculate intraday and overnight returns\n",
        "        data['intraday_change'] = data['Close'] - data['Open']\n",
        "        data['overnight_change'] = data['Open'] - data['Close'].shift(1)\n",
        "\n",
        "        # Calculate overnight return as percentage\n",
        "        data['overnight_return_pct'] = data['overnight_change'] / data['Close'].shift(1) * 100\n",
        "\n",
        "        # Drop rows with NaN values from shift\n",
        "        data = data.dropna()\n",
        "\n",
        "        # Net change and net % change\n",
        "        initial_open = data['Open'].iloc[0]\n",
        "        final_close = data['Close'].iloc[-1]\n",
        "        net_change = final_close - initial_open\n",
        "        net_pct_change = (net_change / initial_open) * 100\n",
        "\n",
        "        region_results.append({\n",
        "            'region': region,\n",
        "            'index': ridx,\n",
        "            'total_days': len(data),\n",
        "            'intraday_change': data['intraday_change'].sum(),\n",
        "            'overnight_change': data['overnight_change'].sum(),\n",
        "            'net_change': net_change,\n",
        "            'net_pct_change': net_pct_change,\n",
        "            'overnight_return_pct': data['overnight_return_pct'].mean()\n",
        "        })\n",
        "\n",
        "    # Round the values in region_results\n",
        "    rounded_results = [\n",
        "        {k: round(v, 2) if isinstance(v, (int, float)) else v for k, v in row.items()}\n",
        "        for row in region_results\n",
        "    ]\n",
        "\n",
        "    region_summary_full[region] = pd.DataFrame(rounded_results)\n",
        "    print(f\"\\n==== Region Snapshot: {region} ====\\n\")\n",
        "    print(region_summary_full[region].to_string())\n"
      ]
    }
  ],
  "metadata": {
    "colab": {
      "provenance": []
    },
    "kernelspec": {
      "display_name": "Python 3",
      "name": "python3"
    },
    "language_info": {
      "name": "python"
    }
  },
  "nbformat": 4,
  "nbformat_minor": 0
}